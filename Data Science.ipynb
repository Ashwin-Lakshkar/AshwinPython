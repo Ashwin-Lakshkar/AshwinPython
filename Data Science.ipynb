{
 "cells": [
  {
   "cell_type": "code",
   "execution_count": 3,
   "id": "c4dfe638",
   "metadata": {},
   "outputs": [
    {
     "name": "stdout",
     "output_type": "stream",
     "text": [
      "Hello world\n"
     ]
    }
   ],
   "source": [
    "#this is the basic program of python\n",
    "print(\"Hello world\")"
   ]
  },
  {
   "cell_type": "code",
   "execution_count": 5,
   "id": "ca310e9c",
   "metadata": {},
   "outputs": [
    {
     "name": "stdout",
     "output_type": "stream",
     "text": [
      "Only This Part Will Run\n"
     ]
    }
   ],
   "source": [
    "import math\n",
    "import numpy as np\n",
    "from math import sqrt, pi\n",
    "print(\"Hello World\")\n",
    "print(\"Only This Part Will Run\")"
   ]
  },
  {
   "cell_type": "code",
   "execution_count": 20,
   "id": "843e8cee",
   "metadata": {},
   "outputs": [
    {
     "name": "stdout",
     "output_type": "stream",
     "text": [
      "   RE_Index     Name  Age\n",
      "0         0    Alice   25\n",
      "1         1      Bob   30\n",
      "2         2  Charlie   35\n",
      "   RE_Index     Name  Age  Index\n",
      "0         0    Alice   25      1\n",
      "1         1      Bob   30      2\n",
      "2         2  Charlie   35      3\n"
     ]
    }
   ],
   "source": [
    "import pandas as pd\n",
    "\n",
    "# Sample data\n",
    "data = {'Name': ['Alice', 'Bob', 'Charlie'], 'Age': [25, 30, 35]}\n",
    "df = pd.DataFrame(data)\n",
    "\n",
    "# Adding an index column\n",
    "df.reset_index(inplace=True)\n",
    "df.rename(columns={'index': 'RE_Index'}, inplace=True)\n",
    "print(df)\n",
    "#Method 2: Creating a Custom Index Column\n",
    "df['Index'] = range(1, len(df) + 1)\n",
    "print(df)\n"
   ]
  },
  {
   "cell_type": "code",
   "execution_count": 22,
   "id": "7d074b48",
   "metadata": {},
   "outputs": [
    {
     "name": "stdout",
     "output_type": "stream",
     "text": [
      "     Status\n",
      "0    Active\n",
      "1  Inactive\n",
      "2    Active\n",
      "3    Active\n",
      "    Status\n",
      "0   Active\n",
      "1  Dormant\n",
      "2   Active\n",
      "3   Active\n"
     ]
    }
   ],
   "source": [
    "#Example: Replacing Misleading Values Using replace()\n",
    "df = pd.DataFrame({'Status': ['Active', 'Inactive', 'Unkown', 'Active']})\n",
    "\n",
    "# Replacing 'Unkown' with 'Unknown'\n",
    "df['Status'] = df['Status'].replace('Unkown', 'Active')\n",
    "print(df)\n",
    "#Using np.where() for Conditional Replacement:\n",
    "import numpy as np\n",
    "\n",
    "df['Status'] = np.where(df['Status'] == 'Inactive', 'Dormant', df['Status'])\n",
    "print(df)\n"
   ]
  },
  {
   "cell_type": "code",
   "execution_count": 11,
   "id": "02852fa4",
   "metadata": {},
   "outputs": [
    {
     "name": "stdout",
     "output_type": "stream",
     "text": [
      "   Gender  Gender_Code\n",
      "0    Male            1\n",
      "1  Female            0\n",
      "2  Female            0\n",
      "3    Male            1\n",
      "   Gender  Gender_Code\n",
      "0    Male            1\n",
      "1  Female            0\n",
      "2  Female            0\n",
      "3    Male            1\n"
     ]
    }
   ],
   "source": [
    "#Using map() for Categorical Mapping:\n",
    "df = pd.DataFrame({'Gender': ['Male', 'Female', 'Female', 'Male']})\n",
    "\n",
    "# Mapping categories to numbers\n",
    "df['Gender_Code'] = df['Gender'].map({'Male': 1, 'Female': 0})\n",
    "print(df)\n",
    "#Using LabelEncoder:y\n",
    "from sklearn.preprocessing import LabelEncoder\n",
    "\n",
    "le = LabelEncoder()\n",
    "df['Gender_Code'] = le.fit_transform(df['Gender'])\n",
    "print(df)\n"
   ]
  },
  {
   "cell_type": "code",
   "execution_count": 18,
   "id": "0e5ca4c6",
   "metadata": {},
   "outputs": [
    {
     "name": "stdout",
     "output_type": "stream",
     "text": [
      "        Age    Salary\n",
      "0 -1.341641 -1.341641\n",
      "1 -0.447214 -0.447214\n",
      "2  0.447214  0.447214\n",
      "3  1.341641  1.341641\n"
     ]
    }
   ],
   "source": [
    "#Using StandardScaler:\n",
    "from sklearn.preprocessing import StandardScaler\n",
    "\n",
    "data = {'Age': [25, 30, 35, 40], 'Salary': [50000, 60000, 70000, 80000]}\n",
    "df = pd.DataFrame(data)\n",
    "\n",
    "scaler = StandardScaler()\n",
    "df[['Age', 'Salary']] = scaler.fit_transform(df[['Age', 'Salary']])\n",
    "print(df)\n"
   ]
  },
  {
   "cell_type": "code",
   "execution_count": 1,
   "id": "bcef191a",
   "metadata": {},
   "outputs": [
    {
     "ename": "NameError",
     "evalue": "name 'df' is not defined",
     "output_type": "error",
     "traceback": [
      "\u001b[1;31m---------------------------------------------------------------------------\u001b[0m",
      "\u001b[1;31mNameError\u001b[0m                                 Traceback (most recent call last)",
      "\u001b[1;32m<ipython-input-1-d80eee9e7331>\u001b[0m in \u001b[0;36m<module>\u001b[1;34m\u001b[0m\n\u001b[0;32m      3\u001b[0m \u001b[1;33m\u001b[0m\u001b[0m\n\u001b[0;32m      4\u001b[0m \u001b[1;31m# Calculate Z-scores\u001b[0m\u001b[1;33m\u001b[0m\u001b[1;33m\u001b[0m\u001b[1;33m\u001b[0m\u001b[0m\n\u001b[1;32m----> 5\u001b[1;33m \u001b[0mdf\u001b[0m\u001b[1;33m[\u001b[0m\u001b[1;34m'Z_Score'\u001b[0m\u001b[1;33m]\u001b[0m \u001b[1;33m=\u001b[0m \u001b[1;33m(\u001b[0m\u001b[0mdf\u001b[0m\u001b[1;33m[\u001b[0m\u001b[1;34m'Age'\u001b[0m\u001b[1;33m]\u001b[0m \u001b[1;33m-\u001b[0m \u001b[0mdf\u001b[0m\u001b[1;33m[\u001b[0m\u001b[1;34m'Age'\u001b[0m\u001b[1;33m]\u001b[0m\u001b[1;33m.\u001b[0m\u001b[0mmean\u001b[0m\u001b[1;33m(\u001b[0m\u001b[1;33m)\u001b[0m\u001b[1;33m)\u001b[0m \u001b[1;33m/\u001b[0m \u001b[0mdf\u001b[0m\u001b[1;33m[\u001b[0m\u001b[1;34m'Age'\u001b[0m\u001b[1;33m]\u001b[0m\u001b[1;33m.\u001b[0m\u001b[0mstd\u001b[0m\u001b[1;33m(\u001b[0m\u001b[1;33m)\u001b[0m\u001b[1;33m\u001b[0m\u001b[1;33m\u001b[0m\u001b[0m\n\u001b[0m\u001b[0;32m      6\u001b[0m \u001b[1;33m\u001b[0m\u001b[0m\n\u001b[0;32m      7\u001b[0m \u001b[1;31m# Identifying outliers\u001b[0m\u001b[1;33m\u001b[0m\u001b[1;33m\u001b[0m\u001b[1;33m\u001b[0m\u001b[0m\n",
      "\u001b[1;31mNameError\u001b[0m: name 'df' is not defined"
     ]
    }
   ],
   "source": [
    "#Method 1: Using Z-Score\n",
    "import numpy as np\n",
    "\n",
    "# Calculate Z-scores\n",
    "df['Z_Score'] = (df['Age'] - df['Age'].mean()) / df['Age'].std()\n",
    "\n",
    "# Identifying outliers\n",
    "outliers = df[np.abs(df['Z_Score']) > 3]\n",
    "print(outliers)\n",
    "#Method 2: Using Interquartile Range (IQR):\n",
    "Q1 = df['Age'].quantile(0.25)\n",
    "Q3 = df['Age'].quantile(0.75)\n",
    "IQR = Q3 - Q1\n",
    "\n",
    "# Defining outlier boundaries\n",
    "lower_bound = Q1 - 1.5 * IQR\n",
    "upper_bound = Q3 + 1.5 * IQR\n",
    "\n",
    "# Identifying outliers\n",
    "outliers = df[(df['Age'] < lower_bound) | (df['Age'] > upper_bound)]\n",
    "print(outliers)\n"
   ]
  },
  {
   "cell_type": "code",
   "execution_count": 4,
   "id": "fd2486a0",
   "metadata": {},
   "outputs": [
    {
     "data": {
      "image/png": "[encoded data removed]",
      "text/plain": [
       "<Figure size 432x288 with 1 Axes>"
      ]
     },
     "metadata": {
      "needs_background": "light"
     },
     "output_type": "display_data"
    }
   ],
   "source": [
    "import matplotlib.pyplot as plt\n",
    "import numpy as np\n",
    "s=['1st','2nd','3rd']\n",
    "per_maths=[95,82,88]\n",
    "per_chem=[82,85,75]\n",
    "per_com=[55,99,80]\n",
    "x=np.arange(len(s))\n",
    "plt.bar(x,per_maths,label=\"Mathametics\",width=0.30,color='silver')\n",
    "plt.bar(x+.60,per_chem,label=\"Chemistry\",width=0.30,color='red')\n",
    "plt.bar(x+.60,per_com,label=\"Computer\",width=0.30,color='blue')\n",
    "plt.xticks(x,s)\n",
    "plt.xlabel('Position')\n",
    "plt.ylabel('Percentage')\n",
    "plt.title(\"Bar Graph For Result Analysis\")\n",
    "plt.legend()\n",
    "plt.show()"
   ]
  },
  {
   "cell_type": "code",
   "execution_count": 2,
   "id": "8b62bbe2",
   "metadata": {},
   "outputs": [
    {
     "name": "stdout",
     "output_type": "stream",
     "text": [
      "Purchased  No  Yes\n",
      "Gender            \n",
      "Female      1    1\n",
      "Male        0    2\n"
     ]
    }
   ],
   "source": [
    "import pandas as pd\n",
    "\n",
    "# Sample dataset\n",
    "data = {'Gender': ['Male', 'Female', 'Male', 'Female'],\n",
    "        'Purchased': ['Yes', 'No', 'Yes', 'Yes']}\n",
    "\n",
    "df = pd.DataFrame(data)\n",
    "contingency_table = pd.crosstab(df['Gender'], df['Purchased'])\n",
    "print(contingency_table)\n"
   ]
  },
  {
   "cell_type": "code",
   "execution_count": 5,
   "id": "46f0466d",
   "metadata": {},
   "outputs": [
    {
     "data": {
      "image/png": "[encoded data removed]",
      "text/plain": [
       "<Figure size 432x288 with 1 Axes>"
      ]
     },
     "metadata": {
      "needs_background": "light"
     },
     "output_type": "display_data"
    }
   ],
   "source": [
    "import matplotlib.pyplot as plt\n",
    "\n",
    "# Sample data\n",
    "data1 = [1, 2, 2, 3, 3, 3, 4, 4, 5]\n",
    "data2 = [2, 3, 3, 4, 4, 5, 5, 6, 6]\n",
    "\n",
    "plt.hist(data1, alpha=0.5, label='Data 1')\n",
    "plt.hist(data2, alpha=0.5, label='Data 2')\n",
    "plt.xlabel('Value')\n",
    "plt.ylabel('Frequency')\n",
    "plt.title('Histogram with Overlay')\n",
    "plt.legend()\n",
    "plt.show()\n"
   ]
  },
  {
   "cell_type": "code",
   "execution_count": 3,
   "id": "f92757af",
   "metadata": {},
   "outputs": [
    {
     "name": "stdout",
     "output_type": "stream",
     "text": [
      "   Values  Binned\n",
      "0       1     0.0\n",
      "1       2     0.0\n",
      "2       6     1.0\n",
      "3       8     1.0\n",
      "4       9     1.0\n",
      "5      10     1.0\n",
      "6      15     2.0\n"
     ]
    }
   ],
   "source": [
    "import pandas as pd\n",
    "from sklearn.preprocessing import KBinsDiscretizer\n",
    "\n",
    "# Sample data\n",
    "data = {'Values': [1, 2, 6, 8, 9, 10, 15]}\n",
    "df = pd.DataFrame(data)\n",
    "\n",
    "# Binning\n",
    "est = KBinsDiscretizer(n_bins=3, encode='ordinal', strategy='uniform')\n",
    "df['Binned'] = est.fit_transform(df[['Values']])\n",
    "print(df)"
   ]
  },
  {
   "cell_type": "code",
   "execution_count": 7,
   "id": "c6f63971",
   "metadata": {},
   "outputs": [
    {
     "name": "stdout",
     "output_type": "stream",
     "text": [
      "Training Data:\n",
      "    Feature\n",
      "4        5\n",
      "2        3\n",
      "0        1\n",
      "3        4\n",
      "Testing Data:\n",
      "    Feature\n",
      "1        2\n"
     ]
    }
   ],
   "source": [
    "from sklearn.model_selection import train_test_split\n",
    "import pandas as pd\n",
    "\n",
    "# Sample data\n",
    "data = pd.DataFrame({'Feature': [1, 2, 3, 4, 5], 'Label': [0, 1, 0, 1, 0]})\n",
    "X = data[['Feature']]\n",
    "y = data['Label']\n",
    "\n",
    "# Partitioning into training and testing datasets\n",
    "X_train, X_test, y_train, y_test = train_test_split(X, y, test_size=0.2, random_state=42)\n",
    "print(\"Training Data:\\n\", X_train)\n",
    "print(\"Testing Data:\\n\", X_test)\n"
   ]
  },
  {
   "cell_type": "code",
   "execution_count": 12,
   "id": "aa841be3",
   "metadata": {},
   "outputs": [
    {
     "data": {
      "image/png": "[encoded data removed]",
      "text/plain": [
       "<Figure size 432x288 with 1 Axes>"
      ]
     },
     "metadata": {
      "needs_background": "light"
     },
     "output_type": "display_data"
    }
   ],
   "source": [
    "from sklearn.tree import DecisionTreeClassifier\n",
    "import matplotlib.pyplot as plt\n",
    "from sklearn import tree\n",
    "\n",
    "# Sample data\n",
    "X = [[1, 2], [3, 4], [5, 6], [7, 8]]\n",
    "y = [0, 1, 0, 1]\n",
    "\n",
    "# Building a CART model\n",
    "clf = DecisionTreeClassifier()\n",
    "clf = clf.fit(X, y)\n",
    "\n",
    "# Visualizing the tree\n",
    "tree.plot_tree(clf)\n",
    "plt.show()"
   ]
  },
  {
   "cell_type": "code",
   "execution_count": 14,
   "id": "b1eeddb1",
   "metadata": {},
   "outputs": [
    {
     "name": "stdout",
     "output_type": "stream",
     "text": [
      "Predictions: [1]\n"
     ]
    }
   ],
   "source": [
    "from sklearn.ensemble import RandomForestClassifier\n",
    "\n",
    "# Sample data\n",
    "X = [[1, 2], [3, 4], [5, 6], [7, 8]]\n",
    "y = [0, 1, 0, 1]\n",
    "\n",
    "# Building a Random Forest model\n",
    "rf = RandomForestClassifier(n_estimators=10, random_state=42)\n",
    "rf.fit(X, y)\n",
    "\n",
    "# Making predictions\n",
    "predictions = rf.predict([[3, 4]])\n",
    "print(\"Predictions:\", predictions)\n"
   ]
  },
  {
   "cell_type": "code",
   "execution_count": null,
   "id": "71afd578",
   "metadata": {},
   "outputs": [],
   "source": []
  },
  {
   "cell_type": "code",
   "execution_count": 15,
   "id": "6f65a2f9",
   "metadata": {},
   "outputs": [
    {
     "name": "stdout",
     "output_type": "stream",
     "text": [
      "Accuracy: 0.0\n"
     ]
    }
   ],
   "source": [
    "from sklearn.model_selection import train_test_split\n",
    "from sklearn.naive_bayes import GaussianNB\n",
    "from sklearn.metrics import accuracy_score\n",
    "\n",
    "# Sample dataset\n",
    "X = [[1, 2], [2, 3], [3, 4], [4, 5]]\n",
    "y = [0, 1, 0, 1]\n",
    "\n",
    "# Splitting data into training and testing sets\n",
    "X_train, X_test, y_train, y_test = train_test_split(X, y, test_size=0.25, random_state=42)\n",
    "\n",
    "# Initializing and training the model\n",
    "model = GaussianNB()\n",
    "model.fit(X_train, y_train)\n",
    "\n",
    "# Making predictions\n",
    "predictions = model.predict(X_test)\n",
    "print(\"Accuracy:\", accuracy_score(y_test, predictions))\n",
    "    "
   ]
  },
  {
   "cell_type": "code",
   "execution_count": 16,
   "id": "5fe72e46",
   "metadata": {},
   "outputs": [
    {
     "name": "stdout",
     "output_type": "stream",
     "text": [
      "   Feature Label\n",
      "0        0   Yes\n",
      "1        1    No\n",
      "2        2   Yes\n"
     ]
    }
   ],
   "source": [
    "import pandas as pd\n",
    "from sklearn.preprocessing import LabelEncoder\n",
    "\n",
    "# Sample data\n",
    "data = pd.DataFrame({'Feature': ['A', 'B', 'C'], 'Label': ['Yes', 'No', 'Yes']})\n",
    "\n",
    "# Encoding categorical features\n",
    "encoder = LabelEncoder()\n",
    "data['Feature'] = encoder.fit_transform(data['Feature'])\n",
    "print(data)"
   ]
  },
  {
   "cell_type": "code",
   "execution_count": 3,
   "id": "092d3d5b",
   "metadata": {},
   "outputs": [
    {
     "data": {
      "image/png": "[encoded data removed]",
      "text/plain": [
       "<Figure size 432x288 with 2 Axes>"
      ]
     },
     "metadata": {
      "needs_background": "light"
     },
     "output_type": "display_data"
    }
   ],
   "source": [
    "from sklearn.metrics import confusion_matrix, roc_curve, auc, classification_report\n",
    "import matplotlib.pyplot as plt\n",
    "import seaborn as sns\n",
    "\n",
    "# Example Confusion Matrix Visualization\n",
    "def plot_confusion_matrix(y_true, y_pred):\n",
    "    cm = confusion_matrix(y_true, y_pred)\n",
    "    sns.heatmap(cm, annot=True, fmt=\"d\", cmap=\"Blues\", xticklabels=['Negative', 'Positive'], yticklabels=['Negative', 'Positive'])\n",
    "    plt.ylabel('Actual')\n",
    "    plt.xlabel('Predicted')\n",
    "    plt.title('Confusion Matrix')\n",
    "    plt.show()\n",
    "y_true = [1, 0, 1, 1, 0, 1, 0, 0, 1, 0]  # Actual values\n",
    "y_pred = [1, 0, 1, 0, 0, 1, 0, 1, 1, 0]  # Predicted values\n",
    "\n",
    "# Function call\n",
    "plot_confusion_matrix(y_true, y_pred)"
   ]
  },
  {
   "cell_type": "code",
   "execution_count": 5,
   "id": "51ad3b57",
   "metadata": {},
   "outputs": [
    {
     "data": {
      "image/png": "[encoded data removed]",
      "text/plain": [
       "<Figure size 432x288 with 1 Axes>"
      ]
     },
     "metadata": {
      "needs_background": "light"
     },
     "output_type": "display_data"
    }
   ],
   "source": [
    "# Example ROC Curve Visualization\n",
    "def plot_roc_curve(y_true, y_scores):\n",
    "    fpr, tpr, _ = roc_curve(y_true, y_scores)\n",
    "    roc_auc = auc(fpr, tpr)\n",
    "    plt.figure()\n",
    "    plt.plot(fpr, tpr, color='darkorange', lw=2, label=f'ROC Curve (AUC = {roc_auc:.2f})')\n",
    "    plt.plot([0, 1], [0, 1], color='navy', lw=2, linestyle='--')\n",
    "    plt.xlabel('False Positive Rate')\n",
    "    plt.ylabel('True Positive Rate')\n",
    "    plt.title('ROC Curve')\n",
    "    plt.legend(loc='lower right')\n",
    "    plt.show()\n",
    "y_true = [0, 0, 1, 1, 0, 1, 0, 1, 1, 0]  # Actual class labels\n",
    "y_scores = [0.1, 0.4, 0.35, 0.8, 0.2, 0.85, 0.05, 0.9, 0.7, 0.3]  # Predicted probabilities\n",
    "\n",
    "# Function call\n",
    "plot_roc_curve(y_true, y_scores)"
   ]
  },
  {
   "cell_type": "code",
   "execution_count": null,
   "id": "09244b82",
   "metadata": {},
   "outputs": [],
   "source": []
  }
 ],
 "metadata": {
  "kernelspec": {
   "display_name": "Python 3",
   "language": "python",
   "name": "python3"
  },
  "language_info": {
   "codemirror_mode": {
    "name": "ipython",
    "version": 3
   },
   "file_extension": ".py",
   "mimetype": "text/x-python",
   "name": "python",
   "nbconvert_exporter": "python",
   "pygments_lexer": "ipython3",
   "version": "3.8.8"
  }
 },
 "nbformat": 4,
 "nbformat_minor": 5
}
